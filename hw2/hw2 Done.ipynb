{
 "cells": [
  {
   "attachments": {},
   "cell_type": "markdown",
   "metadata": {},
   "source": [
    "## Домашнее задание по летней практике № 2"
   ]
  },
  {
   "attachments": {},
   "cell_type": "markdown",
   "metadata": {},
   "source": [
    "Ахметзянов Д.Р.\n",
    "М8О-202Б-21"
   ]
  },
  {
   "cell_type": "code",
   "execution_count": 1,
   "metadata": {},
   "outputs": [],
   "source": [
    "import numpy as np\n",
    "import sympy as sp\n",
    "import matplotlib.pyplot as plt\n",
    "import pandas as pd \n",
    "from matplotlib.animation import FuncAnimation\n",
    "from scipy.integrate import odeint\n",
    "import scipy.optimize as sc"
   ]
  },
  {
   "cell_type": "code",
   "execution_count": null,
   "metadata": {},
   "outputs": [],
   "source": [
    "%matplotlib widget"
   ]
  },
  {
   "attachments": {},
   "cell_type": "markdown",
   "metadata": {},
   "source": [
    "## Работа с матрицами"
   ]
  },
  {
   "attachments": {},
   "cell_type": "markdown",
   "metadata": {},
   "source": [
    "1)\tСчитайте два числа. Это размеры матрицы из нулей. Считайте ещё одно число n. Создайте и напечатайте матрицу, в центре которой лежит первая матрица с нулями, вокруг неё – единицы, вокруг них – двойки, и так до этого n. Пример: 2 3; 3 ->\n"
   ]
  },
  {
   "cell_type": "code",
   "execution_count": null,
   "metadata": {},
   "outputs": [],
   "source": [
    "row, col, n = (int(input()) for _ in range(3))\n",
    "matrix = np.zeros((row, col), dtype = int) \n",
    "matrix"
   ]
  },
  {
   "cell_type": "code",
   "execution_count": null,
   "metadata": {},
   "outputs": [],
   "source": [
    "for i in range(1, n + 1):\n",
    "    matrix = np.pad(matrix, pad_width=1, mode='constant', constant_values=i)\n",
    "matrix"
   ]
  },
  {
   "attachments": {},
   "cell_type": "markdown",
   "metadata": {},
   "source": [
    "2)\tСчитайте два числа – размер матрицы. Считайте элементы этой матрицы. К ней сверху и справа присоедините куски с наибольшими значениями по столбцам и по строкам, соответственно. В незадействованный уголок вставьте 0."
   ]
  },
  {
   "cell_type": "code",
   "execution_count": null,
   "metadata": {},
   "outputs": [],
   "source": [
    "row, col = int(input()), int(input())\n",
    "a = np.array([list(map(int, input().split())) for _ in range(row)])\n",
    "a"
   ]
  },
  {
   "cell_type": "code",
   "execution_count": null,
   "metadata": {},
   "outputs": [],
   "source": [
    "a_max_col = a.max(axis = 0)\n",
    "a_max_str = a.max(axis = 1).reshape(2, 1)\n",
    "a_zeros = np.zeros([1,1], dtype = int)\n",
    "np.block([[a_max_col, a_zeros], [a, a_max_str]])"
   ]
  },
  {
   "attachments": {},
   "cell_type": "markdown",
   "metadata": {},
   "source": [
    "3)\tСчитайте два числа – размер матрицы. Считайте элементы этой матрицы. Если матрица не квадратная, посчитайте определитель наибольшей квадратной подматрицы. Таких подматриц будет много – выведите на печать максимальное значение определителя для них, и отвечающую ему подматрицу."
   ]
  },
  {
   "cell_type": "code",
   "execution_count": null,
   "metadata": {},
   "outputs": [],
   "source": [
    "row, col = int(input()), int(input())\n",
    "a = np.array([list(map(int, input().split())) for _ in range(row)])\n",
    "a"
   ]
  },
  {
   "cell_type": "code",
   "execution_count": null,
   "metadata": {},
   "outputs": [],
   "source": [
    "answer = {}"
   ]
  },
  {
   "cell_type": "code",
   "execution_count": null,
   "metadata": {},
   "outputs": [],
   "source": [
    "if col == row:\n",
    "    print('Squared matrix')\n",
    "else:\n",
    "    for i in range(abs(row - col) + 1):\n",
    "        if row > col:\n",
    "            det = int(np.linalg.det(a[i:min(row, col)+i, 0:min(row, col)]))\n",
    "            submatrix = a[i:min(row, col)+i, 0:min(row, col)]\n",
    "            answer[det] = submatrix\n",
    "        else:\n",
    "            det = int(np.linalg.det(a[0:min(row, col), i:min(row, col)+i]))\n",
    "            submatrix = a[0:min(row, col), i:min(row, col)+i]\n",
    "            answer[det] = submatrix\n",
    "    key = max(answer)\n",
    "    print(key, answer[key], sep='\\n')\n",
    "\n",
    "\n",
    "\n"
   ]
  },
  {
   "attachments": {},
   "cell_type": "markdown",
   "metadata": {},
   "source": [
    "4)\tСчитайте размеры матрицы (они должны быть чётными). Считайте элементы матрицы. Поменяйте чётные и нечётные элементы местами – сначала столбцы, потом строки"
   ]
  },
  {
   "cell_type": "code",
   "execution_count": null,
   "metadata": {},
   "outputs": [],
   "source": [
    "row, col = int(input()), int(input())\n",
    "if row % 2 != 0 or col % 2 != 0:\n",
    "    print('Numbers is odd')\n",
    "else:\n",
    "    a = np.array([list(map(int, input().split())) for _ in range(row)])\n",
    "b = a.copy()\n",
    "b"
   ]
  },
  {
   "cell_type": "code",
   "execution_count": null,
   "metadata": {},
   "outputs": [],
   "source": [
    "a[:, ::2], a[:, 1::2] = b[:, 1::2], b[:, ::2]\n",
    "a"
   ]
  },
  {
   "cell_type": "code",
   "execution_count": null,
   "metadata": {},
   "outputs": [],
   "source": [
    "c = a.copy()\n",
    "a[::2], a[1::2] = c[1::2], c[::2]\n",
    "a"
   ]
  },
  {
   "attachments": {},
   "cell_type": "markdown",
   "metadata": {},
   "source": [
    "5\n",
    "![](4photo.png)"
   ]
  },
  {
   "cell_type": "code",
   "execution_count": null,
   "metadata": {},
   "outputs": [],
   "source": [
    "row, col = int(input()), int(input())\n",
    "a = np.array([list(map(int, input().split())) for _ in range(row)])\n",
    "a"
   ]
  },
  {
   "cell_type": "code",
   "execution_count": null,
   "metadata": {},
   "outputs": [],
   "source": [
    "answer = np.array([np.std(a[i]) for i in range(col)]) # стандартное отклонение\n",
    "answer"
   ]
  },
  {
   "attachments": {},
   "cell_type": "markdown",
   "metadata": {},
   "source": [
    "## Символьные вычисления "
   ]
  },
  {
   "attachments": {},
   "cell_type": "markdown",
   "metadata": {},
   "source": [
    "1)\tСчитайте функцию от символьной переменной t. Считайте два числа – пределы изменения t. Выведите график этой функции, график её производной и интеграла"
   ]
  },
  {
   "cell_type": "code",
   "execution_count": null,
   "metadata": {},
   "outputs": [],
   "source": [
    "t = sp.Symbol('t')\n",
    "function_input = input()\n",
    "function = sp.simplify(function_input) #перевод из строки в функцию\n",
    "function_diff = sp.diff(function_input, t) #производная функции\n",
    "function_intregral = sp.integrate(function_input, t) # интерграл функции\n",
    "print(f'{function = }', f'{function_diff = }', f'{function_intregral = }', sep = '\\n')"
   ]
  },
  {
   "cell_type": "code",
   "execution_count": null,
   "metadata": {},
   "outputs": [],
   "source": [
    "a, b = int(input()), int(input()) #границы функции\n",
    "axiss = np.linspace(a, b, 100)\n",
    "a, b"
   ]
  },
  {
   "cell_type": "code",
   "execution_count": null,
   "metadata": {},
   "outputs": [],
   "source": [
    "sp.plotting.plot((function, (t, a, b)))"
   ]
  },
  {
   "cell_type": "code",
   "execution_count": null,
   "metadata": {},
   "outputs": [],
   "source": [
    "sp.plotting.plot((function_diff, (t, a, b)))"
   ]
  },
  {
   "cell_type": "code",
   "execution_count": null,
   "metadata": {},
   "outputs": [],
   "source": [
    "sp.plotting.plot((function_intregral, (t, a, b)))"
   ]
  },
  {
   "attachments": {},
   "cell_type": "markdown",
   "metadata": {},
   "source": [
    "2) Считайте две функции от переменной x. Выведите их графики, график их разности и умножения.\n"
   ]
  },
  {
   "cell_type": "code",
   "execution_count": null,
   "metadata": {},
   "outputs": [],
   "source": [
    "x = sp.Symbol('x')\n",
    "function_input1, function_input2  = input(), input()\n",
    "function_difference = sp.simplify(function_input1) - sp.simplify(function_input2) # функция разности\n",
    "function_prod = sp.simplify(function_input1) * sp.simplify(function_input2) # функция произведения\n",
    "print(f'{function_difference=}', f'{function_prod=}', sep = '\\n')"
   ]
  },
  {
   "cell_type": "code",
   "execution_count": null,
   "metadata": {},
   "outputs": [],
   "source": [
    "sp.plotting.plot((function_difference, (x, -10, 10)))"
   ]
  },
  {
   "cell_type": "code",
   "execution_count": null,
   "metadata": {},
   "outputs": [],
   "source": [
    "sp.plotting.plot((function_prod, (x, -10, 10)))"
   ]
  },
  {
   "attachments": {},
   "cell_type": "markdown",
   "metadata": {},
   "source": [
    "3) Считайте функцию от x. Считайте вторую функцию от t, и подставьте её вместо икса в первую. Постройте график полученной фукции для t=[0,10], а также график её производной.\n"
   ]
  },
  {
   "cell_type": "code",
   "execution_count": 2,
   "metadata": {},
   "outputs": [
    {
     "name": "stdout",
     "output_type": "stream",
     "text": [
      "function_input1='sin(t) + 1 / 2 * sin(2*t)'\n",
      "function_input2='-10 '\n",
      "function=(cos(t) + 1)*sin(t)\n",
      "function_diff = (cos(t) + 1)*cos(t) - sin(t)**2\n"
     ]
    }
   ],
   "source": [
    "x, t = sp.symbols('x, t')\n",
    "function_input1, function_input2 = input(), input()\n",
    "f = sp.simplify(function_input1) # перевод из строки в функцию\n",
    "# подставляем вторую функцию как аргумент для первой\n",
    "function = sp.Subs(f, x, sp.simplify(function_input2)).doit()\n",
    "function_diff = sp.diff(function, t)\n",
    "print(f'{function_input1=}', f'{function_input2=}', f'{function=}', f'{function_diff = }', sep = '\\n')"
   ]
  },
  {
   "cell_type": "code",
   "execution_count": null,
   "metadata": {},
   "outputs": [],
   "source": [
    "sp.plotting.plot((function, (t, -10, 10)), note = f'{function = }')"
   ]
  },
  {
   "cell_type": "code",
   "execution_count": null,
   "metadata": {},
   "outputs": [],
   "source": [
    "sp.plotting.plot((function_diff, (t, -10, 10)))"
   ]
  },
  {
   "attachments": {},
   "cell_type": "markdown",
   "metadata": {},
   "source": [
    "4) Считайте функцию от символьной переменной t. Считайте два числа – пределы изменения t. Выведите график этой функции, а также точками отметьте на графике её экстремумы.\n"
   ]
  },
  {
   "cell_type": "code",
   "execution_count": 3,
   "metadata": {},
   "outputs": [
    {
     "name": "stdout",
     "output_type": "stream",
     "text": [
      "function=(cos(t) + 1)*sin(t)\n",
      "function_diff =(cos(t) + 1)*cos(t) - sin(t)**2\n"
     ]
    }
   ],
   "source": [
    "t = sp.Symbol('t')\n",
    "function_input = input()\n",
    "function = sp.simplify(function_input) # перевод из строки в функцию\n",
    "function_diff = sp.diff(function, t) # производная функции\n",
    "print(f'{function=}', f'{function_diff =}', sep = '\\n')\n"
   ]
  },
  {
   "cell_type": "code",
   "execution_count": 7,
   "metadata": {},
   "outputs": [
    {
     "name": "stdout",
     "output_type": "stream",
     "text": [
      "equation=Eq((cos(t) + 1)*cos(t) - sin(t)**2, 0)\n",
      "solution=[-pi/3, pi/3]\n"
     ]
    }
   ],
   "source": [
    "equation = sp.Eq(function_diff, 0) # создение уравнения\n",
    "solution = sp.solve(equation, t) # находение экстремумов\n",
    "print(f'{equation=}', f'{solution=}', sep = '\\n')"
   ]
  },
  {
   "cell_type": "code",
   "execution_count": 8,
   "metadata": {},
   "outputs": [],
   "source": [
    "function_draw = sp.lambdify(t, function) # перевод функции из sympy в python"
   ]
  },
  {
   "cell_type": "code",
   "execution_count": 9,
   "metadata": {},
   "outputs": [],
   "source": [
    "a, b = int(input()), int(input())\n",
    "delta_t = np.linspace(a, b, 100) # делим ось икс по\n",
    "delta_f = [function_draw(i) for i in delta_t] # подставляем значения в функцию"
   ]
  },
  {
   "cell_type": "code",
   "execution_count": 10,
   "metadata": {},
   "outputs": [
    {
     "ename": "TypeError",
     "evalue": "loop of ufunc does not support argument 0 of type Mul which has no callable cos method",
     "output_type": "error",
     "traceback": [
      "\u001b[1;31m---------------------------------------------------------------------------\u001b[0m",
      "\u001b[1;31mAttributeError\u001b[0m                            Traceback (most recent call last)",
      "\u001b[1;31mAttributeError\u001b[0m: 'Mul' object has no attribute 'cos'",
      "\nThe above exception was the direct cause of the following exception:\n",
      "\u001b[1;31mTypeError\u001b[0m                                 Traceback (most recent call last)",
      "Cell \u001b[1;32mIn[10], line 5\u001b[0m\n\u001b[0;32m      3\u001b[0m \u001b[39mfor\u001b[39;00m i \u001b[39min\u001b[39;00m \u001b[39mrange\u001b[39m(\u001b[39mlen\u001b[39m(solution)):\n\u001b[0;32m      4\u001b[0m     min_max \u001b[39m=\u001b[39m solution[i]\n\u001b[1;32m----> 5\u001b[0m     plt\u001b[39m.\u001b[39mscatter(min_max, function_draw(min_max), s \u001b[39m=\u001b[39m \u001b[39m100\u001b[39m, color \u001b[39m=\u001b[39m \u001b[39m'\u001b[39m\u001b[39mred\u001b[39m\u001b[39m'\u001b[39m)\n\u001b[0;32m      6\u001b[0m     plt\u001b[39m.\u001b[39mhlines(function_draw(min_max), min_max \u001b[39m-\u001b[39m \u001b[39m1\u001b[39m, min_max \u001b[39m+\u001b[39m \u001b[39m1\u001b[39m, color \u001b[39m=\u001b[39m \u001b[39m'\u001b[39m\u001b[39mblack\u001b[39m\u001b[39m'\u001b[39m)\n\u001b[0;32m      7\u001b[0m     plt\u001b[39m.\u001b[39mtext(min_max\u001b[39m-\u001b[39m\u001b[39m1\u001b[39m, function_draw(min_max), \u001b[39m'\u001b[39m\u001b[39mDERIVATIVE\u001b[39m\u001b[39m'\u001b[39m, ha\u001b[39m=\u001b[39m\u001b[39m'\u001b[39m\u001b[39mright\u001b[39m\u001b[39m'\u001b[39m, va\u001b[39m=\u001b[39m\u001b[39m'\u001b[39m\u001b[39mcenter\u001b[39m\u001b[39m'\u001b[39m)\n",
      "File \u001b[1;32m<lambdifygenerated-1>:2\u001b[0m, in \u001b[0;36m_lambdifygenerated\u001b[1;34m(t)\u001b[0m\n\u001b[0;32m      1\u001b[0m \u001b[39mdef\u001b[39;00m \u001b[39m_lambdifygenerated\u001b[39m(t):\n\u001b[1;32m----> 2\u001b[0m     \u001b[39mreturn\u001b[39;00m (cos(t) \u001b[39m+\u001b[39m \u001b[39m1\u001b[39m)\u001b[39m*\u001b[39msin(t)\n",
      "\u001b[1;31mTypeError\u001b[0m: loop of ufunc does not support argument 0 of type Mul which has no callable cos method"
     ]
    },
    {
     "data": {
      "image/png": "[encoded data removed]",
      "text/plain": [
       "<Figure size 2000x1000 with 1 Axes>"
      ]
     },
     "metadata": {},
     "output_type": "display_data"
    }
   ],
   "source": [
    "plt.figure(figsize = (20, 10))\n",
    "plt.plot(delta_t, delta_f)\n",
    "for i in range(len(solution)):\n",
    "    min_max = solution[i]\n",
    "    plt.scatter(min_max, function_draw(min_max), s = 100, color = 'red')\n",
    "    plt.hlines(function_draw(min_max), min_max - 1, min_max + 1, color = 'black')\n",
    "    plt.text(min_max-1, function_draw(min_max), 'DERIVATIVE', ha='right', va='center')\n",
    "plt.xlim([a, b])\n",
    "plt.title('Function')\n",
    "plt.grid()\n",
    "plt.show()"
   ]
  },
  {
   "attachments": {},
   "cell_type": "markdown",
   "metadata": {},
   "source": [
    "5) Считайте функцию от символьной переменной x. Считайте два числа – пределы изменения t. Выведите график этой функции, а также точками отметьте на графике её корни."
   ]
  },
  {
   "cell_type": "code",
   "execution_count": null,
   "metadata": {},
   "outputs": [],
   "source": [
    "x = sp.Symbol('x')\n",
    "function_input = input()\n",
    "function = sp.simplify(function_input) # перевод из строки в функцию\n",
    "print(f'{function=}')"
   ]
  },
  {
   "cell_type": "code",
   "execution_count": null,
   "metadata": {},
   "outputs": [],
   "source": [
    "equation = sp.Eq(function) # создание уравнения\n",
    "solution = sp.solve(equation, x) # решение уравнения\n",
    "print(f'{equation=}', f'{solution=}', sep = '\\n')"
   ]
  },
  {
   "cell_type": "code",
   "execution_count": null,
   "metadata": {},
   "outputs": [],
   "source": [
    "function_draw = sp.lambdify(x, function) # перевод из sympy в python"
   ]
  },
  {
   "cell_type": "code",
   "execution_count": null,
   "metadata": {},
   "outputs": [],
   "source": [
    "a, b = int(input()), int(input())\n",
    "delta_t = np.linspace(a, b, 100) # делим ось икс по\n",
    "delta_f = [function_draw(i) for i in delta_t] #подставляем значения в функцию"
   ]
  },
  {
   "cell_type": "code",
   "execution_count": null,
   "metadata": {},
   "outputs": [],
   "source": [
    "plt.figure(figsize = (20, 10))\n",
    "plt.plot(delta_t, delta_f)\n",
    "plt.hlines(0, a, b, color = 'black')\n",
    "for i in range(len(solution)):\n",
    "    min_max = solution[i]\n",
    "    plt.scatter(min_max, function_draw(min_max), s = 100, color = 'red')\n",
    "    plt.text(min_max- 0.2, function_draw(min_max), 'Solution', ha='right', va='center')\n",
    "plt.xlim([a, b])\n",
    "plt.title('Function')\n",
    "plt.grid()\n",
    "plt.show()"
   ]
  },
  {
   "attachments": {},
   "cell_type": "markdown",
   "metadata": {},
   "source": [
    "![](6photo.png)"
   ]
  },
  {
   "cell_type": "code",
   "execution_count": null,
   "metadata": {},
   "outputs": [],
   "source": [
    "x, y=sp.symbols('x, y')\n",
    "equation1 = sp.Eq(x ** 2 -2 * y ** 2 - x * y + 2 * x - y + 1, 0) # создание уравнения\n",
    "equation2 = sp.Eq(2 * x ** 2 - y ** 2 + x * y + 3 * y -5, 0) # создание уравнения\n",
    "solution = sp.solve([equation1, equation2], [x, y])\n",
    "solution\n"
   ]
  },
  {
   "cell_type": "code",
   "execution_count": null,
   "metadata": {},
   "outputs": [],
   "source": [
    "values = {'x': [i[0] for i in solution],\n",
    "          'y': [i[1] for i in solution]}"
   ]
  },
  {
   "cell_type": "code",
   "execution_count": null,
   "metadata": {},
   "outputs": [],
   "source": [
    "dataframe = pd.DataFrame(values)\n",
    "dataframe"
   ]
  },
  {
   "attachments": {},
   "cell_type": "markdown",
   "metadata": {},
   "source": [
    "![](11photo.png)"
   ]
  },
  {
   "cell_type": "code",
   "execution_count": null,
   "metadata": {},
   "outputs": [],
   "source": [
    "x = sp.Symbol('x')\n",
    "f = sp.symbols('f', cls = sp.Function) # создание функции\n",
    "\n",
    "equation = sp.Eq(f(x).diff(x, 1) * x + x ** 2 + f(x) * x - f(x), 0)    \n",
    "print(sp.dsolve(equation))  # Решение диффура\n",
    "solution = sp.dsolve(equation).rhs\n",
    "print(solution)\n",
    "ASubsed=[]\n",
    "C = [-10, 1, 0, 4]\n",
    "for v in C:\n",
    "    ASubsed.append(sp.Subs(solution,'C1', v).doit())\n",
    "sp.plotting.plot((ASubsed[0],(x,-3,3)),(ASubsed[1],(x,-3,3)),(ASubsed[2],(x,-3,3)),(ASubsed[3],(x,-3,3)),line_color='red')"
   ]
  },
  {
   "attachments": {},
   "cell_type": "markdown",
   "metadata": {},
   "source": [
    "## Численное решение уравнений"
   ]
  },
  {
   "attachments": {},
   "cell_type": "markdown",
   "metadata": {},
   "source": [
    "5) Постройте график функци f(x) = log(sin(x)+1.5)-0.01*x**2, и численно найдите корни уравнения f(x)=0.\n"
   ]
  },
  {
   "cell_type": "code",
   "execution_count": null,
   "metadata": {},
   "outputs": [],
   "source": [
    "x = sp.Symbol('x')\n",
    "function = sp.simplify('log(sin(x)+1.5)-0.01*x**2')\n",
    "function_draw = sp.lambdify(x, function)\n",
    "function"
   ]
  },
  {
   "cell_type": "code",
   "execution_count": null,
   "metadata": {},
   "outputs": [],
   "source": [
    "delta_t = np.linspace(-100, 100, 1000) # делим ось икс по\n",
    "delta_f = [function_draw(i) for i in delta_t] # подставляем значения в функцию"
   ]
  },
  {
   "cell_type": "code",
   "execution_count": null,
   "metadata": {},
   "outputs": [],
   "source": [
    "plt.figure(figsize = (20, 10))\n",
    "plt.plot(delta_t, delta_f)\n",
    "plt.title('Function')\n",
    "plt.grid()\n",
    "plt.show()"
   ]
  },
  {
   "cell_type": "code",
   "execution_count": null,
   "metadata": {},
   "outputs": [],
   "source": [
    "plt.figure(figsize = (10, 10))\n",
    "plt.xlim([-15, 15])\n",
    "plt.ylim([-2, 2])\n",
    "plt.plot(delta_t, delta_f)\n",
    "plt.title('Function')\n",
    "plt.grid()\n",
    "plt.plot([delta_t[0],delta_t[-1]],[0,0])\n",
    "\n",
    "print(sc.root(function_draw, -6.3).x) # численное решение уравнения. Зависит от начальной точки.\n",
    "print(sc.root(function_draw, -2.7).x)\n",
    "print(sc.root(function_draw, -0.5).x)\n",
    "print(sc.root(function_draw, 3.5).x) \n",
    "print(sc.root(function_draw, 6.3).x)\n",
    "print(sc.root(function_draw, 8.7).x)"
   ]
  },
  {
   "attachments": {},
   "cell_type": "markdown",
   "metadata": {},
   "source": [
    "![](61photo.png)"
   ]
  },
  {
   "cell_type": "code",
   "execution_count": null,
   "metadata": {},
   "outputs": [],
   "source": [
    "def odesys(x,t):\n",
    "    dx0 = 2 * x[0] + x[1] ** 2 - 1\n",
    "    dx1 = 6 * x[0] - x[1] ** 2 + 1 \n",
    "    return [dx0, dx1]\n",
    "x0 = [1, 0]\n",
    "t = np.linspace(0, 1, 1001)\n",
    "X = odeint(odesys, x0, t)\n",
    "print(X)\n",
    "plt.figure(figsize = (20, 10))\n",
    "plt.plot(X[:,1], X[:,0])   #фазовая траектория\n",
    "plt.plot(t, X[:,1], color='red')\n",
    "plt.xlabel('t')\n",
    "plt.ylabel('f')\n",
    "plt.title('Решение системы дифуров')\n",
    "plt.grid()\n",
    "plt.legend([\"x(t)\", \"V(t)\"])\n",
    "plt.show()"
   ]
  },
  {
   "cell_type": "code",
   "execution_count": null,
   "metadata": {},
   "outputs": [],
   "source": [
    "def odesys(x,t,A,B):\n",
    "    dx0 = 2 * A * x[0] + x[1] ** 2 - 1 + 0 * np.sin(t) #ВАЖНО: добавляйте и зануляйте функцию от t\n",
    "    dx1 = 6 * B * x[0] - x[0] ** 2 + 1\n",
    "    return [dx0,dx1]\n",
    "x0 = [1,0]\n",
    "t = np.linspace(0, 1000, 10001)\n",
    "X = odeint(odesys, x0, t, (-0.01, 0.1))   #odeint(odesys,x0,t,(-0.01,0.1)) - (cсисcтема, нач. точка, массив времени, параметры (a,b))\n",
    "plt.figure(figsize = (17, 8))\n",
    "plt.plot(t, X[:, 0])\n",
    "plt.plot(t, X[:, 1], color='red')\n",
    "plt.xlabel('t')\n",
    "plt.ylabel('f')\n",
    "plt.title('Решение системы дифуров')\n",
    "plt.grid()\n",
    "plt.legend([\"x(t)\", \"V(t)\"])\n",
    "plt.show()\n",
    "\n",
    "x01=[-1, 0]\n",
    "X1=odeint(odesys, x01, t, (-0.01, 0.1))\n",
    "\n",
    "x02=[0, 1]\n",
    "X2=odeint(odesys, x02, t, (-0.01, 0.1))\n",
    "\n",
    "x03=[0, -1]\n",
    "X3=odeint(odesys, x03, t, (-0.01,0.1))\n",
    "\n",
    "fig = plt.figure(figsize = (17, 8))\n",
    "ax = fig.add_subplot(1, 1, 1)\n",
    "P0 = ax.plot(X[0,0],X[0,1], 'o', color = 'red')[0]\n",
    "ax.plot(X[:,0],X[:,1], color = 'red')\n",
    "P1 = ax.plot(X1[0,0],X1[0,1], 'o', color='blue')[0]\n",
    "ax.plot(X1[:,0],X1[:,1], color='blue')\n",
    "P2 = ax.plot(X2[0,0],X2[0,1],'o', color='green')[0]\n",
    "ax.plot(X2[:,0],X2[:,1], color='green')\n",
    "P3 = ax.plot(X3[0,0],X3[0,1], 'o')[0]\n",
    "ax.plot(X3[:,0],X3[:,1])\n",
    "#ax.xlabel('X0')\n",
    "#ax.ylabel('X1')\n",
    "#ax.title('Фазовая кривая')\n",
    "#ax.grid()\n",
    "#ax.legend([\"x0 = [1,0]\"])\n",
    "ax.axis('equal')\n",
    "\n",
    "def kino(i):\n",
    "    P0.set_data(X[i,0],X[i,1])\n",
    "    P1.set_data(X1[i,0],X1[i,1])\n",
    "    P2.set_data(X2[i,0],X2[i,1])\n",
    "    P3.set_data(X3[i,0],X3[i,1])\n",
    "    return [P0, P1, P2, P3]\n",
    "\n",
    "multik = FuncAnimation(fig,kino,interval=20,frames=len(t))\n",
    "\n",
    "plt.show()"
   ]
  }
 ],
 "metadata": {
  "kernelspec": {
   "display_name": "Python 3",
   "language": "python",
   "name": "python3"
  },
  "language_info": {
   "codemirror_mode": {
    "name": "ipython",
    "version": 3
   },
   "file_extension": ".py",
   "mimetype": "text/x-python",
   "name": "python",
   "nbconvert_exporter": "python",
   "pygments_lexer": "ipython3",
   "version": "3.10.11"
  },
  "orig_nbformat": 4
 },
 "nbformat": 4,
 "nbformat_minor": 2
}
