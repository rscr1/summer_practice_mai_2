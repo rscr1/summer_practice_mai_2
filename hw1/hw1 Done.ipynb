{
 "cells": [
  {
   "attachments": {},
   "cell_type": "markdown",
   "metadata": {},
   "source": [
    "## Домашнее задание по летней практике № 1"
   ]
  },
  {
   "attachments": {},
   "cell_type": "markdown",
   "metadata": {},
   "source": [
    "Ахметзянов Д.Р.\n",
    "М8О-202Б-21"
   ]
  },
  {
   "attachments": {},
   "cell_type": "markdown",
   "metadata": {},
   "source": [
    "Работа с типами данных"
   ]
  },
  {
   "attachments": {},
   "cell_type": "markdown",
   "metadata": {},
   "source": [
    "Считайте число. Если оно делится на 3, посчитайте от него факториал, иначе допишите его к себе в обратном порядке: пример: (вход) 6 - (выход) 720; (вход) 1234 – (выход) 12344321"
   ]
  },
  {
   "cell_type": "code",
   "execution_count": 5,
   "metadata": {},
   "outputs": [],
   "source": [
    "# 1\n",
    "def factorial(n: int) -> int:\n",
    "    if n == 1 or n == 0:\n",
    "        return 1\n",
    "    else:\n",
    "        return n * factorial(n - 1)"
   ]
  },
  {
   "cell_type": "code",
   "execution_count": 6,
   "metadata": {},
   "outputs": [
    {
     "name": "stdout",
     "output_type": "stream",
     "text": [
      "factorial(n)=1307674368000\n"
     ]
    }
   ],
   "source": [
    "n = int(input())\n",
    "if n % 3 == 0:\n",
    "    print(f'{factorial(n)=}') \n",
    "else:\n",
    "    print(int(str(n) + str(n)[::-1]))"
   ]
  },
  {
   "attachments": {},
   "cell_type": "markdown",
   "metadata": {},
   "source": [
    "Считайте три числа. Если одно при делении на второе даёт в остатке третье, выведите результат деления первого на второе нацело, иначе выведите строку «Остаток от деления _1_ на _2_ не равен _3_», где в соответствующих местах стоят считанные числа.\n"
   ]
  },
  {
   "cell_type": "code",
   "execution_count": 7,
   "metadata": {},
   "outputs": [
    {
     "name": "stdout",
     "output_type": "stream",
     "text": [
      "Остаток от деления 3 на 4 не равен 5\n"
     ]
    }
   ],
   "source": [
    "# 2\n",
    "a, b, c = (map(int, input().split()))\n",
    "print(a // b) if a % b == c else print(f'Остаток от деления {a} на {b} не равен {c}')"
   ]
  },
  {
   "attachments": {},
   "cell_type": "markdown",
   "metadata": {},
   "source": [
    "Считайте строку из нескольких слов. К каждому слову припишите справа количество букв в слове, и объедините обратно в строку. Результат – в печать."
   ]
  },
  {
   "cell_type": "code",
   "execution_count": 8,
   "metadata": {},
   "outputs": [
    {
     "name": "stdout",
     "output_type": "stream",
     "text": [
      "tea3go2dead4"
     ]
    }
   ],
   "source": [
    "for  n in input().split():\n",
    "    print(n, str(len(n)), sep='', end='')"
   ]
  },
  {
   "attachments": {},
   "cell_type": "markdown",
   "metadata": {},
   "source": [
    "Считайте два числа. Если первое делится на второе нацело, выведите «2! Наша взяла» (вместо 2 – результат деления), если второе делится на первое – «Эх. 1…» (вместо 1 – результат деления). Иначе – «Ну не делится ни 3 на 5, ни 5 на 3!» (5,3 – считаные числа)\n"
   ]
  },
  {
   "cell_type": "code",
   "execution_count": 9,
   "metadata": {},
   "outputs": [
    {
     "name": "stdout",
     "output_type": "stream",
     "text": [
      "Ну не делится ни 16 на 7, ни 7 на 16!\n"
     ]
    }
   ],
   "source": [
    "# 4\n",
    "a, b = (map(int, input().split()))\n",
    "if a % b == 0:\n",
    "    print(f'{a / b}! Наша взяла') \n",
    "elif b % a == 0:\n",
    "    print(f'Эх. {b / a}…')\n",
    "else:\n",
    "    print(f'Ну не делится ни {a} на {b}, ни {b} на {a}!')"
   ]
  },
  {
   "attachments": {},
   "cell_type": "markdown",
   "metadata": {},
   "source": [
    "Работа с масссивами"
   ]
  },
  {
   "attachments": {},
   "cell_type": "markdown",
   "metadata": {},
   "source": [
    "Считайте массив целых чисел. Посчитайте сумму чётных и сумму нечётных элементов, выведите разность этих сумм.\n"
   ]
  },
  {
   "cell_type": "code",
   "execution_count": 10,
   "metadata": {},
   "outputs": [
    {
     "name": "stdout",
     "output_type": "stream",
     "text": [
      "10996\n"
     ]
    }
   ],
   "source": [
    "# 1\n",
    "l = list(map(int, input().split()))\n",
    "answer = 0\n",
    "for n in l:\n",
    "    if n % 2 == 0:\n",
    "        answer += n\n",
    "    else:\n",
    "        answer -= n\n",
    "print(answer)\n"
   ]
  },
  {
   "attachments": {},
   "cell_type": "markdown",
   "metadata": {},
   "source": [
    "Считайте строку, считайте символ. Выведите на печать строку, в которой этот символ вырезан. Пример: aasdfsasd, a -> sdfssd"
   ]
  },
  {
   "cell_type": "code",
   "execution_count": 11,
   "metadata": {},
   "outputs": [
    {
     "data": {
      "text/plain": [
       "'dslakjskl '"
      ]
     },
     "execution_count": 11,
     "metadata": {},
     "output_type": "execute_result"
    }
   ],
   "source": [
    "# 2\n",
    "s, a = input(), input()\n",
    "ans = ''.join(s.split(a))\n",
    "ans"
   ]
  },
  {
   "attachments": {},
   "cell_type": "markdown",
   "metadata": {},
   "source": [
    "Считайте массив целых чисел. Посчитайте новый массив, равный разности считанного и его же, перевёрнутого началом в конец, и выведите на печать его элементы, соединённые долларами. Пример: 1 2 3 4 5 -> -4$-2$0$2$4\n"
   ]
  },
  {
   "cell_type": "code",
   "execution_count": 12,
   "metadata": {},
   "outputs": [
    {
     "name": "stdout",
     "output_type": "stream",
     "text": [
      "-5$-3$-1$1$3$5\n"
     ]
    }
   ],
   "source": [
    "# 3\n",
    "l = list(map(int, input().split()))\n",
    "l_t = l[::-1]\n",
    "ans = ''\n",
    "for i, j in zip(l, l_t):\n",
    "    ans += str(i - j) + '$'\n",
    "print(ans[:-1])"
   ]
  },
  {
   "attachments": {},
   "cell_type": "markdown",
   "metadata": {},
   "source": [
    "Считайте строку, разбейте на слова. Каждое слово переверните наоборот, и составьте обратно в строку. Результат на печать. Пример: Позавчера было жарко -> аречвазоП олыб окраж\n"
   ]
  },
  {
   "cell_type": "code",
   "execution_count": 13,
   "metadata": {},
   "outputs": [
    {
     "data": {
      "text/plain": [
       "'gfedcba'"
      ]
     },
     "execution_count": 13,
     "metadata": {},
     "output_type": "execute_result"
    }
   ],
   "source": [
    "# 4 \n",
    "s = input().split()\n",
    "ans = ''\n",
    "for n in s:\n",
    "    ans += n[::-1] + ' '\n",
    "ans = ans[:-1]\n",
    "ans"
   ]
  },
  {
   "attachments": {},
   "cell_type": "markdown",
   "metadata": {},
   "source": [
    "работа с функциями"
   ]
  },
  {
   "attachments": {},
   "cell_type": "markdown",
   "metadata": {},
   "source": [
    "Напишите функцию, которая убирает в подаваемой на вход строке все гласные."
   ]
  },
  {
   "cell_type": "code",
   "execution_count": 14,
   "metadata": {},
   "outputs": [
    {
     "name": "stdout",
     "output_type": "stream",
     "text": [
      "no_vowel()='dg;wnrjgwbljsgtr'\n"
     ]
    }
   ],
   "source": [
    "# 1\n",
    "\n",
    "def no_vowel(s = 'adg;wnerjguwebljsgtr') -> str:\n",
    "    vowel = ['a', 'e', 'i', 'o', 'u', 'y']\n",
    "    for i in vowel:\n",
    "        if s.__contains__(i):\n",
    "            s = ''.join(s.split(i))\n",
    "    return s\n",
    "\n",
    "\n",
    "print(f'{no_vowel()=}')"
   ]
  },
  {
   "attachments": {},
   "cell_type": "markdown",
   "metadata": {},
   "source": [
    "Напишите функцию векторного произведения двух трёхмерных векторов (массивов из 3 чисел)."
   ]
  },
  {
   "cell_type": "code",
   "execution_count": 15,
   "metadata": {},
   "outputs": [
    {
     "name": "stdout",
     "output_type": "stream",
     "text": [
      "composition_vectors()=[-3, 6, -3]\n"
     ]
    }
   ],
   "source": [
    "# 2\n",
    "def composition_vectors(a = [1, 2, 3],\n",
    "                b = [4, 5, 6]) -> list:\n",
    "    return [a[1] * b[2] - a[2] * b[1], a[2] * b[0] - a[0] * b[2], a[0] * b[1] - a[1] * b[0]]\n",
    "\n",
    "\n",
    "print(f'{composition_vectors()=}')"
   ]
  },
  {
   "attachments": {},
   "cell_type": "markdown",
   "metadata": {},
   "source": [
    "Напишите функцию сравнения двух строк, и возвращающую строку следующего вида: ashjfsa123890, ahhsssah24870 -> a*h**sa*2*8*0\n"
   ]
  },
  {
   "cell_type": "code",
   "execution_count": 16,
   "metadata": {},
   "outputs": [
    {
     "data": {
      "text/plain": [
       "'asd**hjkl'"
      ]
     },
     "execution_count": 16,
     "metadata": {},
     "output_type": "execute_result"
    }
   ],
   "source": [
    "# 3\n",
    "def comparison(a = 'asdfghjkl',\n",
    "               b = 'asdgfhjkl;;;') -> str:\n",
    "    ans = ''\n",
    "    for i, j in zip(a, b):\n",
    "        if i == j:\n",
    "            ans += i\n",
    "        else:\n",
    "            ans += '*'\n",
    "    return ans\n",
    "            \n",
    "            \n",
    "comparison()"
   ]
  },
  {
   "attachments": {},
   "cell_type": "markdown",
   "metadata": {},
   "source": [
    "Напишите функцию, принимающую на вход два списка чисел, и меняет их нечётные элементы местами. Пример: aaaaa, bbbbb -> babab, ababa"
   ]
  },
  {
   "cell_type": "code",
   "execution_count": 17,
   "metadata": {},
   "outputs": [
    {
     "data": {
      "text/plain": [
       "(['b', 'a', 'b', 'a', 'b'], ['a', 'b', 'a', 'b', 'a'])"
      ]
     },
     "execution_count": 17,
     "metadata": {},
     "output_type": "execute_result"
    }
   ],
   "source": [
    "# 4\n",
    "def change_list(a = ['a', 'a', 'a', 'a', 'a'],\n",
    "           b = ['b', 'b', 'b', 'b', 'b']) -> list:\n",
    "    a[::2], b[::2] = b[::2], a[::2]\n",
    "    return a, b\n",
    "   \n",
    "     \n",
    "change_list()"
   ]
  },
  {
   "attachments": {},
   "cell_type": "markdown",
   "metadata": {},
   "source": [
    "Работа с классами"
   ]
  },
  {
   "attachments": {},
   "cell_type": "markdown",
   "metadata": {},
   "source": [
    "Напишите класс «Обед», в котором находится несколько объектов класса «Еда», которые обладают характеристиками калорийности, вкусности, цены (далее – на вашу фантазию). В Обеде должна быть функция получения характеристики обеда: дешёвый, пойдёт, дорогой; вкусный, так себе, это невозможно есть; на таких харчах ты не дойдёшь до дома, как надо, на таких харчах ты в дом не поместишься (Это примеры по всем характеристикам – плод вашей фантазии)\n"
   ]
  },
  {
   "cell_type": "code",
   "execution_count": 18,
   "metadata": {},
   "outputs": [],
   "source": [
    "# 1\n",
    "class Meal:\n",
    "    def __init__(self, calorie, taste, cost):\n",
    "        self.calorie = calorie\n",
    "        self.taste = taste\n",
    "        self.cost = cost"
   ]
  },
  {
   "cell_type": "code",
   "execution_count": 19,
   "metadata": {},
   "outputs": [],
   "source": [
    "class Dinner:\n",
    "    def mark_calorie(self):\n",
    "        if self.calorie <= 500:\n",
    "            return(\"на таких харчах ты не дойдёшь до дома\", self.calorie)\n",
    "        elif 500 < self.calorie <= 1000:\n",
    "            return('на таких харчах ты в дом не поместишься', self.calorie)\n",
    "        elif 1000 < self.calorie <= 2000:\n",
    "            return('перекус здравого холостяка чек', self.calorie)\n",
    "    \n",
    "    \n",
    "    def mark_taste(self):\n",
    "        if self.taste == 3:\n",
    "            return('это невозможно есть', self.taste)\n",
    "        elif self.taste == 4:\n",
    "            return('так себе', self.taste)\n",
    "        elif self.taste == 5:\n",
    "            return('вкусный', self.taste)\n",
    "    \n",
    "    \n",
    "    def mark_cost(self):\n",
    "        if self.cost <= 300:\n",
    "            return('дешевый', self.cost)\n",
    "        elif 300 < self.cost <= 500:\n",
    "            return('пойдет', self.cost)\n",
    "        else:\n",
    "            return('дорогой', self.cost)    "
   ]
  },
  {
   "cell_type": "code",
   "execution_count": 20,
   "metadata": {},
   "outputs": [
    {
     "data": {
      "text/plain": [
       "(('перекус здравого холостяка чек', 1200), ('так себе', 4), ('пойдет', 500))"
      ]
     },
     "execution_count": 20,
     "metadata": {},
     "output_type": "execute_result"
    }
   ],
   "source": [
    "Pasta = Meal(1200, 4, 500)\n",
    "dinner1 = Dinner.mark_calorie(Pasta), Dinner.mark_taste(Pasta), Dinner.mark_cost(Pasta)\n",
    "dinner1"
   ]
  },
  {
   "attachments": {},
   "cell_type": "markdown",
   "metadata": {},
   "source": [
    "Напишите класс «пациент» с полями ФИО, фозраст, адрес, список посещений. Посещения – это отдельный класс, имеющий информацию о дате, враче, которого посетили, диагнозе, который был поставлен, назначениях, что делать с этим. В классе реализовать функцию проверки, есть ли у человека этот то диагноз – вывод – да\\нет и дата последнего такого диагноза. Также функция вывода на печать всей истории диагнозов – даты с поставленными диагнозами."
   ]
  },
  {
   "cell_type": "code",
   "execution_count": 21,
   "metadata": {},
   "outputs": [],
   "source": [
    "# 2\n",
    "class Visits:\n",
    "    def __init__(self, date, doctor, output, wishes):\n",
    "        self.date = date\n",
    "        self.doctor = doctor\n",
    "        self.output = output\n",
    "        self.wishes = wishes"
   ]
  },
  {
   "cell_type": "code",
   "execution_count": 22,
   "metadata": {},
   "outputs": [],
   "source": [
    "class People:\n",
    "    def __init__(self, FIO, age, adres, lv):\n",
    "        self.FIO = FIO\n",
    "        self.age = age\n",
    "        self.adres = adres\n",
    "        self.lv = lv\n",
    "        \n",
    "        \n",
    "    def check_diagnoz(self, diagnoz):\n",
    "        for i in self.lv[::-1]:\n",
    "            if i.output == diagnoz:\n",
    "                return(\"YES\", i.date)\n",
    "        \n",
    "        \n",
    "    def list_diagnoz_output(self):\n",
    "        for i in self.lv:\n",
    "            print(i.date, i.output)"
   ]
  },
  {
   "cell_type": "code",
   "execution_count": 23,
   "metadata": {},
   "outputs": [
    {
     "name": "stdout",
     "output_type": "stream",
     "text": [
      "20:01:22 Nasmork\n",
      "22:01:22 Nasmork\n",
      "03:02:22 Headpain\n"
     ]
    },
    {
     "data": {
      "text/plain": [
       "('YES', '22:01:22')"
      ]
     },
     "execution_count": 23,
     "metadata": {},
     "output_type": "execute_result"
    }
   ],
   "source": [
    "vis1 = Visits('20:01:22', 'Lor', 'Nasmork', 'drink vodka')\n",
    "vis2 = Visits('22:01:22', 'Lor', 'Nasmork', 'drink vodka')\n",
    "vis3 = Visits('03:02:22', 'Terapevt', 'Headpain', 'drink vodka')\n",
    "peop = People('Ivanov I I', 20, 'Pobedi 23', [vis1, vis2, vis3])\n",
    "ans = peop.check_diagnoz(\"Nasmork\")\n",
    "peop.list_diagnoz_output()\n",
    "ans"
   ]
  },
  {
   "attachments": {},
   "cell_type": "markdown",
   "metadata": {},
   "source": [
    "Напишите класс «группа студентов», где будет список студентов, имя группы, курс. Студент – отдельный класс, у которого есть поля ФИО, средний балл оценок и поле о том, закрыта сессия или нет. В классе группы реализуйте функцию получения сведений о среднем балле студентов и доля сдавшей сессию части группы.\n"
   ]
  },
  {
   "cell_type": "code",
   "execution_count": 24,
   "metadata": {},
   "outputs": [],
   "source": [
    "import numpy as np"
   ]
  },
  {
   "cell_type": "code",
   "execution_count": 25,
   "metadata": {},
   "outputs": [],
   "source": [
    "# 3\n",
    "\n",
    "class Student:\n",
    "    def __init__(self, FIO, mean_mark, done):\n",
    "        self.FIO = FIO\n",
    "        self.mean_mark = mean_mark\n",
    "        self.done = done"
   ]
  },
  {
   "cell_type": "code",
   "execution_count": 26,
   "metadata": {},
   "outputs": [],
   "source": [
    "class Group:\n",
    "    def __init__(self, ls, name_group, year):\n",
    "        self.ls = ls\n",
    "        self.name_group = name_group\n",
    "        self.year = year\n",
    "        \n",
    "        \n",
    "    def mean_mark(self):\n",
    "        mark = []\n",
    "        for i in self.ls:\n",
    "            mark.append(i.mean_mark)\n",
    "        return(np.mean(mark))\n",
    "    \n",
    "    \n",
    "    def mean_percent_done(self):\n",
    "        perc = []\n",
    "        for i in self.ls:\n",
    "            perc.append(i.done)\n",
    "        return(np.mean(perc))        "
   ]
  },
  {
   "cell_type": "code",
   "execution_count": 27,
   "metadata": {},
   "outputs": [
    {
     "data": {
      "text/plain": [
       "(4.0, 1.0)"
      ]
     },
     "execution_count": 27,
     "metadata": {},
     "output_type": "execute_result"
    }
   ],
   "source": [
    "student1 = Student(\"Ivamov I I\", 4.5, 1)\n",
    "student2 = Student(\"Petrov P P\", 3.5, 1)\n",
    "student3 = Student(\"Vlaodv V V\", 4.0, 1)\n",
    "student4 = Student(\"Vlonov V V\", 3.0, 0)\n",
    "\n",
    "group = Group([student1, student2, student3], \"M8O-202B-21\", 2)\n",
    "group.mean_mark(), group.mean_percent_done()"
   ]
  },
  {
   "attachments": {},
   "cell_type": "markdown",
   "metadata": {},
   "source": [
    "Напишите класс «домашнее животное», с полями из разряда стоимость кормёжки, надо выгуливать, любовь к людям и так далее. Напишите класс «человек» поля которого будут 1) фио, и 2) запросы по тем характеристикам. В классе человека реализуйте функцию сопоставления требований человека с характеристиками животных из списка, результатом которой будет массив значений от 0 до 1 – степень того, как то или иное животное подходит этому человеку.\n"
   ]
  },
  {
   "cell_type": "code",
   "execution_count": 28,
   "metadata": {},
   "outputs": [],
   "source": [
    "# 4\n",
    "\n",
    "class Pet:\n",
    "    def __init__(self, walk, cost_meal, love):\n",
    "        self.walk = walk\n",
    "        self.cost_meal = cost_meal\n",
    "        self.love = love"
   ]
  },
  {
   "cell_type": "code",
   "execution_count": 29,
   "metadata": {},
   "outputs": [],
   "source": [
    "class Owner:\n",
    "    def __init__(self, FIO, request_owner):\n",
    "        self.FIO = FIO\n",
    "        self.request_owner = request_owner\n",
    "        \n",
    "        \n",
    "    def comparison_wishes(self, pet):\n",
    "        a = np.ones(3, dtype = float)\n",
    "        if any([0 in self.request_owner]):\n",
    "            return(\"Owner doesn't love his pet\")\n",
    "        elif any([0 in [pet.walk, pet.cost_meal, pet.love]]):\n",
    "            return(\"Pet doesn't like himself\")\n",
    "        else:\n",
    "            a[0] *= (min(pet.walk, self.request_owner[0]) / max(pet.walk, self.request_owner[0]))\n",
    "            a[1] *= (min(pet.cost_meal, self.request_owner[1]) / max(pet.cost_meal, self.request_owner[1]))\n",
    "            a[2] *= (min(pet.love, self.request_owner[2]) / max(pet.love, self.request_owner[2]))\n",
    "            return a"
   ]
  },
  {
   "cell_type": "code",
   "execution_count": 30,
   "metadata": {},
   "outputs": [
    {
     "data": {
      "text/plain": [
       "\"Pet doesn't like himself\""
      ]
     },
     "execution_count": 30,
     "metadata": {},
     "output_type": "execute_result"
    }
   ],
   "source": [
    "pet = Pet(1, 1000, 0)\n",
    "owner = Owner('Sobachkin S S', [1, 1001, 8])\n",
    "owner.comparison_wishes(pet)"
   ]
  },
  {
   "attachments": {},
   "cell_type": "markdown",
   "metadata": {},
   "source": [
    "Напишите класс «Аквариум», в нём есть поля Объём, освещение и список живности. Живность: отдельный класс. Имеет поле Имя, характеристика (например, маленькая рыбка, большая рыба, маленькая улитка, большая улитка, съедобное растение, несъедобное растение, краб), минимальный объём, минимальное освещение, список живности, кому представитель этого класса угрожает. В классе аквариума сделайте функцию, которая проверит всех обитателей на предмет соответствия объёму и освещению. Для проверки объёма надо сложить все минимальные объёмы для всех обитателей. Также сделайте функцию, проверяющую, уживётся ли эта экосистема, или там крабы съедят всех рыбок или мелкие улитки съедят всю траву. Вывод функции пусть будет содержателен."
   ]
  },
  {
   "cell_type": "code",
   "execution_count": 31,
   "metadata": {},
   "outputs": [],
   "source": [
    "# 5\n",
    "\n",
    "class Fish:\n",
    "    def __init__(self, name, kind, min_V, min_light):\n",
    "        self.name = name\n",
    "        self.kind = kind\n",
    "        self.min_V = min_V\n",
    "        self.min_light = min_light"
   ]
  },
  {
   "cell_type": "code",
   "execution_count": 32,
   "metadata": {},
   "outputs": [],
   "source": [
    "class Aquarium:\n",
    "    def __init__(self, V, light, lf):\n",
    "        self.V = V\n",
    "        self.light = light\n",
    "        self.lf = lf\n",
    "        \n",
    "        \n",
    "    def check_parametrs(self):\n",
    "        sum_V = 0\n",
    "        sum_light = 0\n",
    "        fish = []\n",
    "        f = 0\n",
    "        for i in self.lf:\n",
    "            sum_V += i.min_V\n",
    "            sum_light += i.min_light\n",
    "            fish.append(i.kind)\n",
    "        print(f'In aquarium live {fish}')\n",
    "        if (fish.__contains__(\"Crab\") or fish.__contains__(\"Snail\")) and fish.__contains__(\"Fish\"):\n",
    "            print('Crab or Snail and fish incompatible')\n",
    "            f = 1\n",
    "        elif (fish.__contains__('Crab') and not fish.__contains__(\"Fish\")):\n",
    "            return(\"Crab is hungry, because Fish don't live in aquarium\")\n",
    "        if sum_V > self.V :\n",
    "            print(f'Not enough V in Aquarium: aquarium parametrs V = {self.V} < need parametrs = {sum_V}')\n",
    "            f = 1\n",
    "        else:\n",
    "            print(f'Enough V in Aquarium: aquarium parametrs V = {self.V} > need parametrs = {sum_V}')\n",
    "            \n",
    "        if sum_light > self.light:\n",
    "            print(f'Not enough Light in Aquarium: aquarium parametrs Light = {self.light} < need parametrs = {sum_light}')\n",
    "            f = 1\n",
    "        else:\n",
    "            print(f'Enough Light in Aquarium: aquarium parametrs Light = {self.light} > need parametrs = {sum_light}')\n",
    "            \n",
    "        print('Output: Fish dead') if f == 1 else print('Output: Fish alive')"
   ]
  },
  {
   "cell_type": "code",
   "execution_count": 33,
   "metadata": {},
   "outputs": [
    {
     "name": "stdout",
     "output_type": "stream",
     "text": [
      "In aquarium live ['Fish', 'Fish', 'Fish']\n",
      "Not enough V in Aquarium: aquarium parametrs V = 200 < need parametrs = 250\n",
      "Enough Light in Aquarium: aquarium parametrs Light = 100 > need parametrs = 30\n",
      "Output: Fish dead\n"
     ]
    }
   ],
   "source": [
    "            \n",
    "fish1 = Fish('Bob', 'Fish', 100, 5)\n",
    "fish2 = Fish('Calvin', 'Fish', 100, 10)\n",
    "fish3 = Fish('Nemo', 'Fish', 50, 15)\n",
    "crab1 = Fish(\"MR. Crabs\", 'Crab', 200, 1)\n",
    "snail1 = Fish('Gary', 'Snail', 10, 1)\n",
    "\n",
    "aquarium = Aquarium(200, 100, [fish1, fish2, fish3])\n",
    "aquarium.check_parametrs()"
   ]
  },
  {
   "cell_type": "code",
   "execution_count": 34,
   "metadata": {},
   "outputs": [
    {
     "name": "stdout",
     "output_type": "stream",
     "text": [
      "In aquarium live ['Crab']\n"
     ]
    },
    {
     "data": {
      "text/plain": [
       "\"Crab is hungry, because Fish don't live in aquarium\""
      ]
     },
     "execution_count": 34,
     "metadata": {},
     "output_type": "execute_result"
    }
   ],
   "source": [
    "aquarium = Aquarium(200, 100, [crab1])\n",
    "aquarium.check_parametrs()"
   ]
  },
  {
   "attachments": {},
   "cell_type": "markdown",
   "metadata": {},
   "source": [
    "Напишите класс «агрохимический опыт». Он содержит поля плотности азотистых, калийных, фосфорных удобрений на гектар, а также список вариантов этого опыта (практическое исполнение). Вариант опыта – отдельный класс. В нём содержатся характеристики собранного урожая с гектара: масса зерна, масса ошмётков (которые тоже используются) и качество зерна. В первом классе реализуйте функцию определения средних показателей по характеристикам вариантов опыта, а также функцию качества опыта. Пусть это будет f=((Средний вес зерна)*(качество)*(цена зерна) + (Средний вес ошмётков)*(цена ошмётков))/(N(удобрение1)*Цена(удобрение1)+ N(удобрение2)*Цена(удобрение2)+ N(удобрение3)*Цена(удобрение3))α\n"
   ]
  },
  {
   "cell_type": "code",
   "execution_count": 35,
   "metadata": {},
   "outputs": [],
   "source": [
    "# 6\n",
    "\n",
    "class Experience:\n",
    "    def __init__(self, weight_z, wight_o, quality):\n",
    "        self.weight_z = weight_z\n",
    "        self.weight_o = wight_o\n",
    "        self.quality = quality"
   ]
  },
  {
   "cell_type": "code",
   "execution_count": 36,
   "metadata": {},
   "outputs": [],
   "source": [
    "class Agro_chemical:\n",
    "    def __init__(self, density_N, density_K, density_P, lv):\n",
    "        self.density_N = density_N\n",
    "        self.density_K = density_K\n",
    "        self.density_P = density_P\n",
    "        self.lv = lv\n",
    "        \n",
    "        \n",
    "    def mean(self):\n",
    "        weight_z_mean = []\n",
    "        weight_o_mean = []\n",
    "        quality_mean = []\n",
    "        for i in self.lv:\n",
    "            weight_z_mean.append(i.weight_z)\n",
    "            weight_o_mean.append(i.weight_o)\n",
    "            quality_mean.append(i.quality)\n",
    "        средний_вес_зерна = np.mean(weight_z_mean)\n",
    "        средний_вес_отшметков = np.mean(weight_o_mean)\n",
    "        среднее_качество = np.mean(weight_z_mean) / (np.mean(weight_z_mean) + np.mean(weight_o_mean))\n",
    "        return(f'{средний_вес_зерна=:.2f}',\n",
    "              f'{средний_вес_отшметков=:.2f}',\n",
    "              f'{среднее_качество=:.2f}')\n",
    "        \n",
    "        \n",
    "    #не очень понятна формула и переменные которые нужно в нее передать(((\n",
    "    def F(self, dop, dop1):\n",
    "        mean_weight = self.mean()\n",
    "        answer = (float(mean_weight[0].split('=')[1]) * float(mean_weight[2].split('=')[1])  * dop[0] + float(mean_weight[1].split('=')[1])  * dop[1]) / (self.density_K * dop1[0] + self.density_N * dop1[1] + self.density_P * dop1[2])\n",
    "        print(f'{answer=:.3f}')"
   ]
  },
  {
   "cell_type": "code",
   "execution_count": 37,
   "metadata": {},
   "outputs": [
    {
     "data": {
      "text/plain": [
       "('средний_вес_зерна=1166.67',\n",
       " 'средний_вес_отшметков=56.67',\n",
       " 'среднее_качество=0.95')"
      ]
     },
     "execution_count": 37,
     "metadata": {},
     "output_type": "execute_result"
    }
   ],
   "source": [
    "ex1 = Experience(1000, 50, 7) \n",
    "ex2 = Experience(2000, 100, 6)\n",
    "ex3 = Experience(500, 20, 9)\n",
    "agro_chem = Agro_chemical(1000, 800, 1100, [ex1, ex2, ex3])\n",
    "agro_chem.mean()        "
   ]
  },
  {
   "cell_type": "code",
   "execution_count": 38,
   "metadata": {},
   "outputs": [
    {
     "name": "stdout",
     "output_type": "stream",
     "text": [
      "answer=1.826\n"
     ]
    }
   ],
   "source": [
    "cost_zena_otsh = [1000, 100]\n",
    "cost_ydobr = [100, 200, 300]\n",
    "agro_chem.F(cost_zena_otsh, cost_ydobr)"
   ]
  }
 ],
 "metadata": {
  "kernelspec": {
   "display_name": "Python 3",
   "language": "python",
   "name": "python3"
  },
  "language_info": {
   "codemirror_mode": {
    "name": "ipython",
    "version": 3
   },
   "file_extension": ".py",
   "mimetype": "text/x-python",
   "name": "python",
   "nbconvert_exporter": "python",
   "pygments_lexer": "ipython3",
   "version": "3.10.11"
  },
  "orig_nbformat": 4,
  "vscode": {
   "interpreter": {
    "hash": "11938c6bc6919ae2720b4d5011047913343b08a43b18698fd82dedb0d4417594"
   }
  }
 },
 "nbformat": 4,
 "nbformat_minor": 2
}
